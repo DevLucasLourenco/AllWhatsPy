{
 "cells": [
  {
   "cell_type": "code",
   "execution_count": 1,
   "metadata": {},
   "outputs": [
    {
     "data": {
      "text/plain": [
       "'lucas.lourenco'"
      ]
     },
     "execution_count": 1,
     "metadata": {},
     "output_type": "execute_result"
    }
   ],
   "source": [
    "import os \n",
    "\n",
    "n = os.getlogin()\n",
    "n"
   ]
  },
  {
   "cell_type": "code",
   "execution_count": 10,
   "metadata": {},
   "outputs": [
    {
     "name": "stdout",
     "output_type": "stream",
     "text": [
      "function\n",
      "Conexão estabelecida.\n"
     ]
    }
   ],
   "source": [
    "# Definindo o decorador\n",
    "def login_decorator(func):\n",
    "    def wrapper(self, *args, **kwargs):\n",
    "        if self.logado:  # Supondo que \"logado\" seja um atributo booleano da classe\n",
    "            \n",
    "            return func(self, *args, **kwargs)\n",
    "        else:\n",
    "            print(\"Você precisa estar logado para realizar esta ação.\")\n",
    "    return wrapper\n",
    "\n",
    "# Classe AllWhatsPy\n",
    "class AllWhatsPy(object):  # Certifique-se de herdar de \"object\"\n",
    "\n",
    "    def __init__(self):\n",
    "        self.logado = True  # Supondo que por padrão já esteja logado\n",
    "\n",
    "    @login_decorator\n",
    "    def conexao(self):\n",
    "        print(\"Conexão estabelecida.\")\n",
    "\n",
    "# Uso do decorador\n",
    "awp = AllWhatsPy()\n",
    "awp.conexao()\n"
   ]
  },
  {
   "cell_type": "code",
   "execution_count": 19,
   "metadata": {},
   "outputs": [
    {
     "name": "stdout",
     "output_type": "stream",
     "text": [
      "Nome da função interna: teste\n"
     ]
    }
   ],
   "source": [
    "class MinhaClasse:\n",
    "    def teste(self):\n",
    "        nome_funcao = self.teste.__name__\n",
    "        print(f\"Nome da função interna: {nome_funcao}\")\n",
    "\n",
    "\n",
    "obj = MinhaClasse()\n",
    "obj.teste()\n"
   ]
  }
 ],
 "metadata": {
  "kernelspec": {
   "display_name": "Python 3",
   "language": "python",
   "name": "python3"
  },
  "language_info": {
   "codemirror_mode": {
    "name": "ipython",
    "version": 3
   },
   "file_extension": ".py",
   "mimetype": "text/x-python",
   "name": "python",
   "nbconvert_exporter": "python",
   "pygments_lexer": "ipython3",
   "version": "3.11.3"
  },
  "orig_nbformat": 4
 },
 "nbformat": 4,
 "nbformat_minor": 2
}
